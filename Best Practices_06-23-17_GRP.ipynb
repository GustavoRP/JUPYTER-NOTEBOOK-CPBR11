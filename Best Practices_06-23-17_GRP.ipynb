{
 "cells": [
  {
   "cell_type": "markdown",
   "metadata": {
    "hideCode": false,
    "hidePrompt": false,
    "nbpresent": {
     "id": "530cf4ab-5109-4b81-b373-7eb36dcf9156"
    }
   },
   "source": [
    "# IA369Z - Best Practices - Gustavo Retuci Pinheiro\n",
    "\n",
    "This is a best practices guide to create a reproducible research (RR) using Jupyter Notebook (JN). Here you will find tips about the organization of RR, usage of JN, coding in Python, sharing data and codes, and much more based on the research community knowledge and my own experience.\n",
    "However, as the content is massive, I will be attached to the most important topics."
   ]
  },
  {
   "cell_type": "markdown",
   "metadata": {
    "hideCode": false,
    "hidePrompt": false,
    "nbpresent": {
     "id": "fcd65cd6-24f4-4c36-b2f5-a3dafe9b816d"
    }
   },
   "source": [
    "### Reproducible Research\n",
    "\n",
    "Reproducibility in research is the ability of the experiment to be re-run by the author or someone else and achieve the same result or results that lead to the same conclusion.\n",
    "\n",
    "\n",
    "In computational research, the way to make the work reproducible is sharing the data, codes, documentation, and running those in the same environment.\n",
    "\n",
    "There is a common structure to follow, using popular platforms, in order to achieve good reproducibility (Fig. 1):\n",
    "- Sharing/Distribution\n",
    "    - Github, Bitbucket, ...\n",
    "- Data\n",
    "    - MRI, CSV, ...\n",
    "- Code\n",
    "    - Python, MATLAB, ...\n",
    "- Documentation\n",
    "    - Overleaf/Latex, PDF, ...\n",
    "- Environments\n",
    "    - Windows/Linux/macOS, Docker, ...\n",
    "    \n",
    "   \n",
    "\n",
    "<img src=\"figures/Reproducibe_research_01.png\" width=\"700\" alt=\"\"/>\n",
    "<figcaption>Fig. 1 - Reproducible Paper: Structure and tools</figcaption>\n",
    "\n",
    "#### Do's and Don't's\n",
    "- Try to make the research as reproducible as possible\n",
    "    - Use good documentation\n",
    "    - Code efficiently\n",
    "    - Avoid using too many external resources\n",
    "    - Use standard tools\n",
    "- Documentation\n",
    "    - Create a document that gives an overview of the work, explains the methods, and states the conclusions (separately of the codes or, preferably, using literate programming)\n",
    "    - Create a README file to inform how to setup the environment and run the codes.\n",
    "    - Create a Workflow\n",
    "    - Attach a Licence file to make sure the work will be used properly\n",
    "- Publish your work where it will have a good visibility"
   ]
  },
  {
   "cell_type": "markdown",
   "metadata": {
    "collapsed": true
   },
   "source": [
    "## Workflow\n",
    "\n",
    "When the project is dependent on many software or many different codes, it is recommended to use a workflow management tool. This kind of tool will manage the flow of the data through the sections to ensure that the data will be manipulated and be available properly.\n",
    "However, if the project has a low dependency on different software/modules, the development and reproducibility will be easier if only a flowchart is used as Workflow.\n",
    "\n",
    "### [draw.io](https://www.draw.io/)\n",
    "\n",
    "draw.io  is free online diagram software for making flowcharts. As the Workflow for simple projects can be represented as a flowchart, this online tool is a good option to draw the Workflow.\n",
    "\n",
    "##### Do's and Don't's\n",
    "- Use soft colors on the charts to make it pleasant to read\n",
    "- Try to create a logical flow on the charts\n",
    "- Keep the flowchart clean to avoid confusion\n",
    "- In case of multiple code sections, point in the flowchart what block corresponds to each section"
   ]
  },
  {
   "cell_type": "markdown",
   "metadata": {
    "collapsed": true,
    "hideCode": false,
    "hidePrompt": false
   },
   "source": [
    "## Jupyter notebook\n",
    "\n",
    "[Jupyter](http://jupyter.org/) notebook is an open-source web application that allows the creation and sharing of documents that contain live code, equations, visualizations and explanatory text.\n",
    "Because of those features, it is considered a literate programming tool.\n",
    "\n",
    "\n",
    "Since it has many advantages such as a fast growing community, good online support, compatibility with several programming languages, compatibility with Latex, and so on, Jupyter Notebook is a great tool to make reproducible research.\n",
    "\n",
    "Some examples of its use are [here](https://nbviewer.jupyter.org/).\n",
    "\n",
    "\n",
    "#### How to install\n",
    "- Install Jupyter using [Anaconda](https://www.continuum.io/downloads) to make sure every prerequisite will be installed\n",
    "\n",
    "\n",
    "\n",
    "#### Do's and Don't's\n",
    "- Use Python 2.7 because the 3.x versions are incompatible with many libraries\n",
    "- Setup different Python environments, mainly if you want to try new libraries\n",
    "    - To switch between environments use the command \"activate [enviroment_label]\" in the command prompt\n",
    "- Keep the [pip](https://pip.pypa.io/en/stable/installing/) tool up to date\n",
    "- \"pip install\" is able to install almost all Phyton packages (just make sure you are at the right environment)\n",
    "- Use a pattern to name the notebooks. I recommend using <b>title_mm-dd-yy_OWNERINITIALS.ipynb</b>. It will keep the files well organized inside the notebook folders\n",
    "- Create a notebook for every working day even if there are no effective changes\n",
    "- Jupter Notebook DO NOT import modules that are already imported. If you change the content of a module, restart the kernel to make sure the last version will be imported\n",
    "- If you are using multiple notebooks in your research, the simplest way to share data among the is by saving the processed data in files and reading in the next notebook\n",
    "- Exporting PDF or .tex directly from Notebooks might be useful, but this tool is still in the beginning and will require some finishing"
   ]
  },
  {
   "cell_type": "markdown",
   "metadata": {},
   "source": [
    "## Python\n",
    "\n",
    "Python is a powerful high-level programming language that runs on many operating systems, so the codes can be interchangeable between platforms.\n",
    "\n",
    "This programming language is also widely used in the academic world. This is due to the fact that it has a very good online documentation, there is a lot of available libraries, it is very powerful in data manipulation, it has many graphic tools incorporated, relatively easy to code and to read, it is free, etc.\n",
    "\n",
    "Because of those features and many others, this is the programming language I recommend for a reproducible research.\n",
    "\n",
    "[Here](https://wiki.python.org/moin/BeginnersGuide/Programmers) is a Beginners Guide for Python Language.\n",
    "\n",
    "\n",
    "\n",
    "#### Do's and Don't's\n",
    "- Be careful with the indentation\n",
    "- Try to avoid external dependencies\n",
    "- Use implicit \"for loops\" to make the code more efficient\n",
    "- Stablish a pattern for data and function format and stick to it (this avoids incompatibility between functions)\n",
    "- Use the command \"print\" to debug your code\n",
    "- Try to make the code as short as possible to avoid redundancies and inefficiencies\n",
    "    - When the code starts to get big, create a module with your functions and import it to your notebook (you also can do it importing another notebook as a module)\n",
    "    - When your library is well established, you can make it public and \"pip installable\"\n",
    "        - How to create a \"pip installable\" module [link 1](https://packaging.python.org/distributing/#setup-py), [link 2](https://www.youtube.com/watch?v=NFpmPDIqQZw), [link 3](https://www.youtube.com/watch?v=J_vhfkSb9pU)\n",
    "        - The main commands are: \"python setup.py sdist\" and \"twine upload dist/*\"\n",
    "- Place comments along the code to make it easier to read\n",
    "- Name the variables intuitively\n",
    "- To keep track of active variables, use the command \"whos\"\n",
    "- Use proper variable types to avoid warnings and errors"
   ]
  },
  {
   "cell_type": "markdown",
   "metadata": {
    "collapsed": true,
    "hideCode": false,
    "hidePrompt": false
   },
   "source": [
    "## Overleaf\n",
    "\n",
    "[Overleaf](https://www.overleaf.com/) is an online Latex platform that allows a collaborative editing of the documents.\n",
    "\n",
    "Overleaf is one of the best Latex editor available. It offers standard templates, real-time preview of the editing, many installed packages, and so on.\n",
    "\n",
    "The main advantage of this platform is that it is online, so there is no need for installation and hard setups. However, the main disadvantage of it is also because it is online. When the file begins to get big, the compilation gets heavier and some glitches can occur. Furthermore, if the internet is down, there is no access to the file.\n",
    "\n",
    "#### Do's and Don't's\n",
    "- It is limited on the free version. Find another platform if you work will have more than 60 files (including images)\n",
    "- Name your files with the work name and your actual name. If you don't, it will be hard for the people to whom you sharing the file to identify it is yours\n",
    "- Make sure you have a stable internet connection (principally if you close to the deadline)\n",
    "- Avoid compilation errors because they are very hard to identify on the log file"
   ]
  },
  {
   "cell_type": "markdown",
   "metadata": {
    "collapsed": true,
    "hideCode": false,
    "hidePrompt": false
   },
   "source": [
    "## Distribution\n",
    "\n",
    "The easiest way to distribute and make the version control of your codes is using [Github](https://github.com). This tool allows the user to share a repository with data, codes, documentation, licenses, and everything else a reproducible research needs.\n",
    "Github also has a friendly interface, both online and offline, witch makes it easy to use.\n",
    "\n",
    "However, in the free version, everything you put there became public. If you intend to publish your ongoing work in a conference, for example, you can not make it public. Even after the conference published it, you have transferred the copyrights to them. In this case, the solution is to pay for the service or use the [bitbucket](https://bitbucket.org/) platform, that is very similar to Github but with free private projects.\n",
    "\n",
    "Before starting your project, you should decide if the work will be public from the beginning. If it there is no need to be private, I recommend using Github because of popularity and easiness of use.\n",
    "\n",
    "#### Do's and Don't's\n",
    "- Using Bitbucket and Github at the same time could be tricky as they try to \"steal\" the ownership of the project\n",
    "- The graphic interface is much easier to use than the command lines\n",
    "- If you kee your project public, there is the possibility of viewing the notebooks in the [nBviewer](https://nbviewer.jupyter.org/)"
   ]
  },
  {
   "cell_type": "markdown",
   "metadata": {},
   "source": [
    "<html>\n",
    "<head>\n",
    "  <meta name=\"viewport\" content=\"width=device-width, initial-scale=1\">\n",
    "  <link rel=\"stylesheet\" href=\"https://maxcdn.bootstrapcdn.com/bootstrap/3.3.7/css/bootstrap.min.css\">\n",
    "  <script src=\"https://ajax.googleapis.com/ajax/libs/jquery/3.2.1/jquery.min.js\"></script>\n",
    "  <script src=\"https://maxcdn.bootstrapcdn.com/bootstrap/3.3.7/js/bootstrap.min.js\"></script>\n",
    "</head>\n",
    "<body>\n",
    "\n",
    "<div class=\"container\">\n",
    "  <h2>Other Tips/Do's and Don't's</h2>\n",
    "  <p>Here are some other tips to use the platforms</p>\n",
    "  <div class=\"panel-group\" id=\"accordion\">\n",
    "    <div class=\"panel panel-default\">\n",
    "      <div class=\"panel-heading\">\n",
    "        <h4 class=\"panel-title\">\n",
    "          <a data-toggle=\"collapse\" data-parent=\"#accordion\" href=\"#collapse1\">Jupyter Notebook</a>\n",
    "        </h4>\n",
    "      </div>\n",
    "      \n",
    "      <div id=\"collapse1\" class=\"panel-collapse collapse in\">\n",
    "        <div>\n",
    "        \n",
    "        <div>- Import notebook as a module (instructions [here](https://github.com/GustavoRP/Notebook-as-Module)).</div>\n",
    "\n",
    "        <div>- Try to use the notebook to create slide presentations is very painful.</div>\n",
    "        \n",
    "        <div>- It is \"impossible\" to keep the codes always organized, so periodically reorganize your notebboks.</div>\n",
    "        \n",
    "        <div>- keep your test or messy notebooks in a specific folder.</div>\n",
    "        \n",
    "        \n",
    "        </div>\n",
    "      \n",
    "      </div>\n",
    "    </div>\n",
    "    \n",
    "    \n",
    "    \n",
    "    <div class=\"panel panel-default\">\n",
    "      <div class=\"panel-heading\">\n",
    "        <h4 class=\"panel-title\">\n",
    "          <a data-toggle=\"collapse\" data-parent=\"#accordion\" href=\"#collapse2\">Python</a>\n",
    "        </h4>\n",
    "      </div>\n",
    "      <div id=\"collapse2\" class=\"panel-collapse collapse\">\n",
    "        <div>\n",
    "        \n",
    "        <div>- Import all needed modules inside the function that needs them. It ensures that the code will no break because of nonimporting modules.</div>\n",
    "        <div>- Use matplotlib to show graphics.</div>\n",
    "        \n",
    "        <div>- Try to keep the imports in the same cell for organization.</div>\n",
    "        \n",
    "        <div>- As long it is possible, compact code sections in functions. It will help saving memory.</div>\n",
    "        \n",
    "        \n",
    "      </div>\n",
    "      </div>\n",
    "    </div>\n",
    "    <div class=\"panel panel-default\">\n",
    "      <div class=\"panel-heading\">\n",
    "        <h4 class=\"panel-title\">\n",
    "          <a data-toggle=\"collapse\" data-parent=\"#accordion\" href=\"#collapse3\">General Tips</a>\n",
    "        </h4>\n",
    "      </div>\n",
    "      <div id=\"collapse3\" class=\"panel-collapse collapse\">\n",
    "        <div>\n",
    "         \n",
    "         <div>- Docker does no run on Windows 10 Home edition.</div>\n",
    "         \n",
    "         <div>- Do everything objectively.</div>\n",
    "         \n",
    "        \n",
    "        \n",
    "      </div>\n",
    "      \n",
    "      </div>\n",
    "    </div>\n",
    "  </div> \n",
    "</div>\n",
    "    \n",
    "</body>\n",
    "</html>"
   ]
  },
  {
   "cell_type": "markdown",
   "metadata": {
    "collapsed": true
   },
   "source": [
    "### References\n",
    "\n",
    "- draw.io  (https://www.draw.io/)\n",
    "- Jupyter  (http://jupyter.org/)\n",
    "- Anaconda  (https://www.continuum.io/downloads)\n",
    "- pip  (https://pip.pypa.io/en/stable/installing/)\n",
    "- BeginnersGuide  (https://wiki.python.org/moin/BeginnersGuide/Programmers)\n",
    "- creating a \"pip installable\" module  (https://packaging.python.org/distributing/#setup-py)\n",
    "- Overleaf  (https://www.overleaf.com/)\n",
    "- Github  (https://github.com)\n",
    "- bitbucket  (https://bitbucket.org/)\n",
    "- nBviewer  (https://nbviewer.jupyter.org/)\n",
    "- notebook as a module  (https://github.com/GustavoRP/Notebook-as-Module)"
   ]
  },
  {
   "cell_type": "code",
   "execution_count": null,
   "metadata": {
    "collapsed": true
   },
   "outputs": [],
   "source": []
  }
 ],
 "metadata": {
  "anaconda-cloud": {},
  "hide_code_all_hidden": false,
  "kernelspec": {
   "display_name": "Python 2",
   "language": "python",
   "name": "python2"
  },
  "language_info": {
   "codemirror_mode": {
    "name": "ipython",
    "version": 2
   },
   "file_extension": ".py",
   "mimetype": "text/x-python",
   "name": "python",
   "nbconvert_exporter": "python",
   "pygments_lexer": "ipython2",
   "version": "2.7.12"
  },
  "nbpresent": {
   "slides": {
    "1b128649-1904-4a5b-90e1-ddc738e7806c": {
     "id": "1b128649-1904-4a5b-90e1-ddc738e7806c",
     "prev": "95ddc2f6-0a33-4073-85d8-531ae887075a",
     "regions": {
      "d2dca3fc-70b2-4e7f-b5c4-8473ea088559": {
       "attrs": {
        "height": 0.8,
        "width": 0.8,
        "x": 0.1,
        "y": 0.1
       },
       "content": {
        "cell": "08478ddc-518a-4eaf-aab0-ad780faa7fa3",
        "part": "whole"
       },
       "id": "d2dca3fc-70b2-4e7f-b5c4-8473ea088559"
      }
     }
    },
    "8ed94511-c8db-4fdd-a04e-e6846f95a135": {
     "id": "8ed94511-c8db-4fdd-a04e-e6846f95a135",
     "prev": "c928c567-f79e-4e65-8b14-dc1704f09df4",
     "regions": {
      "5713eb62-6dbc-4e52-b28e-840c7f31003a": {
       "attrs": {
        "height": 0.8,
        "width": 0.8,
        "x": 0.1,
        "y": 0.1
       },
       "content": {
        "cell": "08478ddc-518a-4eaf-aab0-ad780faa7fa3",
        "part": "whole"
       },
       "id": "5713eb62-6dbc-4e52-b28e-840c7f31003a"
      }
     }
    },
    "95ddc2f6-0a33-4073-85d8-531ae887075a": {
     "id": "95ddc2f6-0a33-4073-85d8-531ae887075a",
     "prev": "8ed94511-c8db-4fdd-a04e-e6846f95a135",
     "regions": {
      "faf091f4-00cc-4078-a319-63e5f8c79f30": {
       "attrs": {
        "height": 0.8,
        "width": 0.8,
        "x": 0.1,
        "y": 0.1
       },
       "id": "faf091f4-00cc-4078-a319-63e5f8c79f30"
      }
     }
    },
    "a2c79a6d-f55d-4418-b9e6-9ae83bf1e1dc": {
     "id": "a2c79a6d-f55d-4418-b9e6-9ae83bf1e1dc",
     "prev": "1b128649-1904-4a5b-90e1-ddc738e7806c",
     "regions": {
      "d0b1bc09-9abd-45ab-9d24-f62bb6a3bc38": {
       "attrs": {
        "height": 0.8261904776177439,
        "width": 0.8,
        "x": 0.10751599932387516,
        "y": 0.08880820380914325
       },
       "content": {
        "cell": "08478ddc-518a-4eaf-aab0-ad780faa7fa3",
        "part": "whole"
       },
       "id": "d0b1bc09-9abd-45ab-9d24-f62bb6a3bc38"
      }
     },
     "theme": null
    },
    "c928c567-f79e-4e65-8b14-dc1704f09df4": {
     "id": "c928c567-f79e-4e65-8b14-dc1704f09df4",
     "prev": null,
     "regions": {
      "201f3e2f-fb5b-486a-b6ef-852c095ec75e": {
       "attrs": {
        "height": 0.8,
        "width": 0.8,
        "x": 0.1,
        "y": 0.1
       },
       "content": {
        "cell": "530cf4ab-5109-4b81-b373-7eb36dcf9156",
        "part": "whole"
       },
       "id": "201f3e2f-fb5b-486a-b6ef-852c095ec75e"
      }
     }
    }
   },
   "themes": {
    "default": "a63c0441-ba58-4b36-af96-440309093a97",
    "theme": {
     "a63c0441-ba58-4b36-af96-440309093a97": {
      "id": "a63c0441-ba58-4b36-af96-440309093a97",
      "palette": {
       "19cc588f-0593-49c9-9f4b-e4d7cc113b1c": {
        "id": "19cc588f-0593-49c9-9f4b-e4d7cc113b1c",
        "rgb": [
         252,
         252,
         252
        ]
       },
       "31af15d2-7e15-44c5-ab5e-e04b16a89eff": {
        "id": "31af15d2-7e15-44c5-ab5e-e04b16a89eff",
        "rgb": [
         68,
         68,
         68
        ]
       },
       "50f92c45-a630-455b-aec3-788680ec7410": {
        "id": "50f92c45-a630-455b-aec3-788680ec7410",
        "rgb": [
         155,
         177,
         192
        ]
       },
       "c5cc3653-2ee1-402a-aba2-7caae1da4f6c": {
        "id": "c5cc3653-2ee1-402a-aba2-7caae1da4f6c",
        "rgb": [
         43,
         126,
         184
        ]
       },
       "efa7f048-9acb-414c-8b04-a26811511a21": {
        "id": "efa7f048-9acb-414c-8b04-a26811511a21",
        "rgb": [
         25.118061674008803,
         73.60176211453744,
         107.4819383259912
        ]
       }
      },
      "rules": {
       "blockquote": {
        "color": "50f92c45-a630-455b-aec3-788680ec7410"
       },
       "code": {
        "font-family": "Anonymous Pro"
       },
       "h1": {
        "color": "c5cc3653-2ee1-402a-aba2-7caae1da4f6c",
        "font-family": "Lato",
        "font-size": 8
       },
       "h2": {
        "color": "c5cc3653-2ee1-402a-aba2-7caae1da4f6c",
        "font-family": "Lato",
        "font-size": 6
       },
       "h3": {
        "color": "50f92c45-a630-455b-aec3-788680ec7410",
        "font-family": "Lato",
        "font-size": 5.5
       },
       "h4": {
        "color": "c5cc3653-2ee1-402a-aba2-7caae1da4f6c",
        "font-family": "Lato",
        "font-size": 5
       },
       "h5": {
        "font-family": "Lato"
       },
       "h6": {
        "font-family": "Lato"
       },
       "h7": {
        "font-family": "Lato"
       },
       "pre": {
        "font-family": "Anonymous Pro",
        "font-size": 4
       }
      },
      "text-base": {
       "font-family": "Merriweather",
       "font-size": 4
      }
     }
    }
   }
  }
 },
 "nbformat": 4,
 "nbformat_minor": 1
}
