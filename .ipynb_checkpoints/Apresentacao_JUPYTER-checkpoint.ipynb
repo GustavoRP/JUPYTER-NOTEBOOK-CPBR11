{
 "cells": [
  {
   "cell_type": "markdown",
   "metadata": {},
   "source": [
    "# JUPYTER NOTEBOOK"
   ]
  },
  {
   "cell_type": "markdown",
   "metadata": {},
   "source": [
    "http://jupyter.org/\n",
    "\n",
    "Project Jupyter is an open source project was born out of the IPython Project in 2014 as it evolved to support interactive data science and scientific computing across all programming languages. Jupyter will always be 100% open source software, free for all to use and released under the liberal terms of the modified BSD license\n",
    "\n",
    "## Características\n",
    "\n",
    "###### - Interface no navegador\n",
    "\n",
    "###### - Compartilhamento de notebooks (inslusive remoto)\n",
    "    - nbviwer - http://nbviewer.jupyter.org/\n",
    "    - jupterhub\n",
    "    - GitHub\n",
    "    - Docker\n",
    "    \n",
    "###### - Suporte para mais de 40 linguagens de programação\n",
    "    - Python\n",
    "    - R \n",
    "    - Julia\n",
    "    - Scala\n",
    "    - etc\n",
    "\n",
    "###### - Big data integration\n",
    "    - Apache Spark\n",
    "    - from Python\n",
    "    - R\n",
    "    - Scala\n",
    "    - scikit-learn\n",
    "    - ggplot2\n",
    "    - dplyr\n",
    "    - etc\n",
    "\n",
    "###### - Suporte para latex $\\LaTeX$, videos e imagens\n",
    "\n",
    "###### - Documentação de suporte - https://jupyter.readthedocs.io/en/latest/index.html\n",
    "\n",
    "###### - Interatividade e Widgets - http://jupyter.org/widgets.html\n",
    "\n",
    "###### - Exporta para - https://ipython.org/ipython-doc/3/notebook/nbconvert.html\n",
    "    - latex\n",
    "    - html\n",
    "    - py/ipynb\n",
    "    - PDF\n",
    "\n",
    "###### - Iporta modulos .py e .ipynb\n",
    "\n",
    "###### - Tabelas"
   ]
  },
  {
   "cell_type": "markdown",
   "metadata": {},
   "source": [
    "# instalação\n",
    "\n",
    "http://jupyter.readthedocs.io/en/latest/install.html\n",
    "\n",
    "###### - Linux\n",
    "    - pip\n",
    "        - pip3 install --upgrade pip\n",
    "        - pip3 install jupyter\n",
    "        \n",
    "    - Anaconda\n",
    "    \n",
    "###### - Windows/ macOS\n",
    "    - Anaconda - https://www.continuum.io/downloads\n",
    "    \n",
    "    \n",
    "\n",
    "O python 2.7 é compatível com a grande maioria dos pacotes.\n",
    "\n",
    "Se quiser instalar mais de uma versão do python, é melhor criar multiplos enviroments.\n",
    "\n",
    "###### - Para poder exportar PDF\n",
    "    - http://pandoc.org/installing.html\n",
    "\n",
    "     "
   ]
  },
  {
   "cell_type": "markdown",
   "metadata": {
    "collapsed": true
   },
   "source": [
    "# EXEMPLO DE USO"
   ]
  },
  {
   "cell_type": "markdown",
   "metadata": {},
   "source": [
    "Ajuste Polinomial de Curvas\n",
    "============================\n",
    "\n",
    "Esse tutorial visa explicar os conceitos de *overfitting* e regulzarização através de um exemplo de ajuste polinomial de curvas usando o método dos mínimos quadrados. *Overfitting* ocorre quando o modelo decora os dados de entrada, de forma que o modelo se torne incapaz de generalizar para novos dados. Regulzarização é uma técnica para evitar o overfitting.\n",
    "O tutorial é uma adaptação do exemplo apresentado no capítulo 1 do livro:\n",
    "\"Christopher M. Bishop. 2006. Pattern Recognition and Machine Learning (Information Science and Statistics). Springer-Verlag New York, Inc., Secaucus, NJ, USA.\""
   ]
  },
  {
   "cell_type": "code",
   "execution_count": 2,
   "metadata": {
    "ExecuteTime": {
     "end_time": "2018-02-01T21:58:30.494000-02:00",
     "start_time": "2018-02-01T21:58:30.247000Z"
    }
   },
   "outputs": [
    {
     "data": {
      "image/png": "[encoded data removed]",
      "text/plain": [
       "<matplotlib.figure.Figure at 0x8804320>"
      ]
     },
     "metadata": {},
     "output_type": "display_data"
    }
   ],
   "source": [
    "%matplotlib inline\n",
    "import numpy as np\n",
    "import matplotlib.pylab as plt\n",
    "from ipywidgets import *\n",
    "\n",
    "#Variância do ruído\n",
    "var = 0.3\n",
    "\n",
    "#Conjunto de treino\n",
    "train_size = 100\n",
    "x_train = np.linspace(0,1,train_size)\n",
    "y_train = np.sin(2*np.pi*x_train) + np.random.normal(0,var,train_size) #sinal + ruido\n",
    "\n",
    "#Conjunto de teste\n",
    "test_size = 100\n",
    "x_test= np.linspace(0,1,test_size)\n",
    "y = np.sin(2*np.pi*x_test)\n",
    "y_test = y + np.random.normal(0,var,test_size) #sinal + ruido\n",
    "\n",
    "# Gráfico do sinal sem ruído e do conhunto de treinamento gerado\n",
    "plt.figure()\n",
    "plt.plot(x_test,y,linewidth = 2.0,label = r'Modelo: $sin(2 \\pi x)$')\n",
    "plt.scatter(x_train,y_train,color='red',label = \"Modelo + ruido\")\n",
    "plt.legend(loc = (0.02, 0.18))\n",
    "plt.xlabel(\"x\")\n",
    "plt.ylabel(\"y\")\n",
    "plt.show()"
   ]
  },
  {
   "cell_type": "markdown",
   "metadata": {},
   "source": [
    "Observações: $$\\boldsymbol{X} =(x_1,x_2,...,x_N)^T$$\n",
    "Alvo:  $$\\boldsymbol{T} =(t_1,t_2,...,t_N)^T$$"
   ]
  },
  {
   "cell_type": "markdown",
   "metadata": {},
   "source": [
    "Dados \n",
    "=========\n",
    "\n",
    "Observações: $$\\boldsymbol{X} =(x_1,x_2,...,x_N)^T$$\n",
    "Alvo:  $$\\boldsymbol{T} =(t_1,t_2,...,t_N)^T$$\n",
    "\n",
    "\n",
    "Modelo\n",
    "=========\n",
    "\n",
    "$$y(x,\\boldsymbol{W})= w_0 + w_1x +w_2x^2+...+w_mx^m = \\sum^M_{j=0}w_jx^j$$\n",
    "\n",
    "Função de custo \n",
    "===============\n",
    "\n",
    "\n",
    "Função de custo quadrática: $$E(\\boldsymbol{W})=\\frac{1}{2}\\sum_{n=1}^N\\{y(x_n,\\boldsymbol{W})-t_n\\}^2$$\n",
    "\n",
    "Derivando a função de custo e igualando a zero obtemos o vetor **W*** que minimiza o erro:\n",
    "$$ \\boldsymbol{W}^* = (\\boldsymbol{A}^T\\boldsymbol{A})^{-1}\\boldsymbol{A} ^T\\boldsymbol{T}$$\n",
    "\n",
    "Onde **A** é definido por:\n",
    "\n",
    "$$\\boldsymbol{A} = \\begin{bmatrix}\n",
    "    1 & x_{1} & x_{1}^2 & \\dots  & x_{1}^M \\\\\n",
    "    1 & x_{2} & x_{2}^2 & \\dots  & x_{2}^M \\\\\n",
    "    \\vdots & \\vdots & \\vdots & \\ddots & \\vdots \\\\\n",
    "    1 & x_{N} & x_{N}^2 & \\dots  & x_{N}^M\n",
    "\\end{bmatrix}$$"
   ]
  },
  {
   "cell_type": "code",
   "execution_count": 5,
   "metadata": {
    "ExecuteTime": {
     "end_time": "2018-02-01T22:01:28.599000-02:00",
     "start_time": "2018-02-01T22:01:28.594000Z"
    },
    "collapsed": true
   },
   "outputs": [],
   "source": [
    "#Implementação da solução dos  mínimos quadrados\n",
    "def polynomial_fit(X,T,M):\n",
    "    A = np.power(X.reshape(-1,1),np.arange(0,M+1).reshape(1,-1))\n",
    "    T = T.reshape(-1,1)\n",
    "    W = np.dot(np.linalg.pinv(A),T)\n",
    "    return W.ravel()"
   ]
  },
  {
   "cell_type": "markdown",
   "metadata": {},
   "source": [
    "Plotando o resultado dos mínimos quadrados para polinômios de graus 0 a 9. **Qual é um bom modelo?**"
   ]
  },
  {
   "cell_type": "code",
   "execution_count": 12,
   "metadata": {
    "ExecuteTime": {
     "end_time": "2018-02-01T22:12:37.242000-02:00",
     "start_time": "2018-02-01T22:12:37.039000Z"
    }
   },
   "outputs": [
    {
     "data": {
      "application/vnd.jupyter.widget-view+json": {
       "model_id": "fa94f868e0ef4b3097d775102d964bc2"
      }
     },
     "metadata": {},
     "output_type": "display_data"
    },
    {
     "data": {
      "text/plain": [
       "<function __main__.plotmodel>"
      ]
     },
     "execution_count": 12,
     "metadata": {},
     "output_type": "execute_result"
    }
   ],
   "source": [
    "def plotmodel(M):\n",
    "    coefs = polynomial_fit(x_train, y_train, M)[::-1]\n",
    "    p = np.poly1d(coefs)\n",
    "    plt.figure()\n",
    "    plt.plot(x_test,y,linewidth = 2.0,label = 'Real')\n",
    "    plt.scatter(x_train,y_train,color='red',label= \"Treino\")\n",
    "    plt.xlabel(\"x\")\n",
    "    plt.ylabel(r'y')\n",
    "    y_fit = p(x_test) \n",
    "    plt.plot(x_test,y_fit,linewidth = 2.0,label =\"Estimado\")\n",
    "    plt.plot(x_test,y_test,'x',color='black',label = \"Teste\")\n",
    "    plt.legend(loc=(0.02,0.02))\n",
    "    plt.show()\n",
    "\n",
    "interact(plotmodel,M=(0,9,1))\n"
   ]
  }
 ],
 "metadata": {
  "anaconda-cloud": {},
  "kernelspec": {
   "display_name": "Python 2",
   "language": "python",
   "name": "python2"
  },
  "language_info": {
   "codemirror_mode": {
    "name": "ipython",
    "version": 2
   },
   "file_extension": ".py",
   "mimetype": "text/x-python",
   "name": "python",
   "nbconvert_exporter": "python",
   "pygments_lexer": "ipython2",
   "version": "2.7.12"
  },
  "widgets": {
   "state": {
    "c2df037cf4654f6896131015879c1a1d": {
     "views": [
      {
       "cell_index": 10
      }
     ]
    }
   },
   "version": "1.2.0"
  }
 },
 "nbformat": 4,
 "nbformat_minor": 1
}
